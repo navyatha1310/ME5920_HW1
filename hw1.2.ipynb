{
 "cells": [
  {
   "cell_type": "code",
   "execution_count": 4,
   "id": "b28e26e8-d633-4b3e-aefa-553425dc9ecd",
   "metadata": {},
   "outputs": [
    {
     "name": "stdout",
     "output_type": "stream",
     "text": [
      "    count         mean          std         min         25%          50%  \\\n",
      "0  1503.0  2886.380572  3152.573137  200.000000  800.000000  1600.000000   \n",
      "1  1503.0     6.782302     5.918128    0.000000    2.000000     5.400000   \n",
      "2  1503.0     0.136548     0.093541    0.025400    0.050800     0.101600   \n",
      "3  1503.0    50.860745    15.572784   31.700000   39.600000    39.600000   \n",
      "4  1503.0     0.011140     0.013150    0.000401    0.002535     0.004957   \n",
      "5  1503.0   124.835943     6.898657  103.380000  120.191000   125.721000   \n",
      "\n",
      "           75%           max  Kurtosis  Skewness  \n",
      "0  4000.000000  20000.000000  5.708685  2.137084  \n",
      "1     9.900000     22.200000 -0.412951  0.689164  \n",
      "2     0.228600      0.304800 -1.037964  0.457457  \n",
      "3    71.300000     71.300000 -1.563951  0.235852  \n",
      "4     0.015576      0.058411  2.218903  1.702165  \n",
      "5   129.995500    140.987000 -0.314187 -0.418952  \n"
     ]
    }
   ],
   "source": [
    "import scipy.stats as stats\n",
    "import pandas as pd\n",
    "\n",
    "url_airfoil = \"https://archive.ics.uci.edu/ml/machine-learning-databases/00291/airfoil_self_noise.dat\"\n",
    "airfoil_df = pd.read_csv(url_airfoil, sep=\"\\t\", header=None)\n",
    "\n",
    "# Compute statistics\n",
    "stats_df = airfoil_df.describe().T\n",
    "stats_df[\"Kurtosis\"] = airfoil_df.kurtosis()\n",
    "stats_df[\"Skewness\"] = airfoil_df.skew()\n",
    "print(stats_df)\n"
   ]
  },
  {
   "cell_type": "code",
   "execution_count": null,
   "id": "bb7f27a5-652d-4a16-893b-2dff20493716",
   "metadata": {},
   "outputs": [],
   "source": []
  }
 ],
 "metadata": {
  "kernelspec": {
   "display_name": "Python 3 (ipykernel)",
   "language": "python",
   "name": "python3"
  },
  "language_info": {
   "codemirror_mode": {
    "name": "ipython",
    "version": 3
   },
   "file_extension": ".py",
   "mimetype": "text/x-python",
   "name": "python",
   "nbconvert_exporter": "python",
   "pygments_lexer": "ipython3",
   "version": "3.10.7"
  }
 },
 "nbformat": 4,
 "nbformat_minor": 5
}
